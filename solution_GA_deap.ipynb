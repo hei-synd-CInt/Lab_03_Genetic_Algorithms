{
 "cells": [
  {
   "cell_type": "markdown",
   "metadata": {},
   "source": [
    "# Mastermind game - Genetic Algorithms (DEAP solution)\n",
    "In this notebook we solve the mastermind game using genetic algorithms\n",
    "\n",
    "**NOTE FOR STUDENTS**: Before checking this solution, please make sure to attempt the exercise on your own to maximize your learning experience."
   ]
  },
  {
   "cell_type": "code",
   "execution_count": 1,
   "metadata": {},
   "outputs": [],
   "source": [
    "# Code formatting in jupyter notebooks with black\n",
    "import jupyter_black\n",
    "\n",
    "jupyter_black.load()"
   ]
  },
  {
   "cell_type": "code",
   "execution_count": 2,
   "metadata": {},
   "outputs": [],
   "source": [
    "# import the game module\n",
    "import sentence_mastermind"
   ]
  },
  {
   "cell_type": "markdown",
   "metadata": {},
   "source": [
    "## Create an instance of the game"
   ]
  },
  {
   "cell_type": "code",
   "execution_count": 4,
   "metadata": {},
   "outputs": [],
   "source": [
    "# Create the hidden sentence\n",
    "mastermind = sentence_mastermind.SentenceMastermind(\"Hello, World\")\n",
    "mastermind.set_sentence_from_file()\n",
    "\n",
    "# we get some information to create the individual\n",
    "individual_length = mastermind.get_sentence_length()\n",
    "possible_characters = mastermind.get_unique_characters_in_file()"
   ]
  },
  {
   "cell_type": "code",
   "execution_count": 5,
   "metadata": {},
   "outputs": [],
   "source": [
    "## Genetic Algorithm using deap library\n",
    "# import the necessary libraries\n",
    "from deap import base\n",
    "from deap import creator\n",
    "from deap import tools"
   ]
  },
  {
   "cell_type": "markdown",
   "metadata": {},
   "source": [
    "## GA"
   ]
  },
  {
   "cell_type": "markdown",
   "metadata": {},
   "source": [
    "### Creator"
   ]
  },
  {
   "cell_type": "code",
   "execution_count": 6,
   "metadata": {},
   "outputs": [],
   "source": [
    "creator.create(\"FitnessMax\", base.Fitness, weights=(1.0,))  # maximize the fitness\n",
    "creator.create(\n",
    "    \"Individual\", list, fitness=creator.FitnessMax\n",
    ")  # individual is a list with a fitness attribute"
   ]
  },
  {
   "cell_type": "markdown",
   "metadata": {},
   "source": [
    "### Toolbox"
   ]
  },
  {
   "cell_type": "code",
   "execution_count": 7,
   "metadata": {},
   "outputs": [],
   "source": [
    "# we define a function to select a random character from a string\n",
    "import random\n",
    "\n",
    "\n",
    "def select_random_char_from_string(my_string=possible_characters):\n",
    "    selected_char = random.choice(my_string)\n",
    "    # print(\"selected_char\", selected_char)\n",
    "    return selected_char\n",
    "\n",
    "\n",
    "toolbox = base.Toolbox()\n",
    "# Attribute generator\n",
    "toolbox.register(\"attr_char\", select_random_char_from_string)\n",
    "# Structure initializers\n",
    "toolbox.register(\n",
    "    \"individual\",\n",
    "    tools.initRepeat,\n",
    "    creator.Individual,\n",
    "    toolbox.attr_char,\n",
    "    individual_length,\n",
    ")  # our individual is a list of characters, our \"guess\"\n",
    "toolbox.register(\"population\", tools.initRepeat, list, toolbox.individual)"
   ]
  },
  {
   "cell_type": "markdown",
   "metadata": {},
   "source": [
    "### Evaluation function"
   ]
  },
  {
   "cell_type": "code",
   "execution_count": 8,
   "metadata": {},
   "outputs": [],
   "source": [
    "def evalMastermind(individual):\n",
    "    guess = individual  # renamed for clarity\n",
    "    correct_position, correct_character = mastermind.check_guess(guess)\n",
    "\n",
    "    # as simple fitness function, we give a weight of 3 to the correct position and 0.5 to the correct character\n",
    "    fitness_value = correct_position * 3 + correct_character * 0.5\n",
    "\n",
    "    # we normalize the fitness value\n",
    "    max_fitness = (\n",
    "        3 * individual_length\n",
    "    )  # this means that all characters are in the correct position\n",
    "    fitness_value = fitness_value / max_fitness\n",
    "    return (fitness_value,)"
   ]
  },
  {
   "cell_type": "markdown",
   "metadata": {},
   "source": [
    "### The Genetic Operators"
   ]
  },
  {
   "cell_type": "code",
   "execution_count": 9,
   "metadata": {},
   "outputs": [],
   "source": [
    "toolbox.register(\"evaluate\", evalMastermind)\n",
    "toolbox.register(\"mate\", tools.cxTwoPoint)\n",
    "toolbox.register(\"mutate\", tools.mutShuffleIndexes, indpb=0.05) # 0.05 is the probability of mutating each character\n",
    "toolbox.register(\"select\", tools.selTournament, tournsize=3)"
   ]
  },
  {
   "cell_type": "markdown",
   "metadata": {},
   "source": [
    "### Evolving the Population"
   ]
  },
  {
   "cell_type": "markdown",
   "metadata": {},
   "source": [
    "The code below has been adapted from the examples on [deap documentation](https://deap.readthedocs.io/en/master/examples/ga_onemax.html)."
   ]
  },
  {
   "cell_type": "code",
   "execution_count": 10,
   "metadata": {},
   "outputs": [],
   "source": [
    "import random\n",
    "import matplotlib.pyplot as plt\n",
    "\n",
    "\n",
    "def main():\n",
    "    random.seed(42)\n",
    "    # Creating the Population\n",
    "    pop = toolbox.population(n=500)\n",
    "\n",
    "    # Evaluate the entire population\n",
    "    fitnesses = list(map(toolbox.evaluate, pop))\n",
    "    for ind, fit in zip(pop, fitnesses):\n",
    "        ind.fitness.values = fit\n",
    "\n",
    "    # CXPB  is the probability with which two individuals are crossed\n",
    "    # MUTPB is the probability for mutating an individual\n",
    "    CXPB, MUTPB = 0.5, 0.2\n",
    "\n",
    "    # List to store the average fitness per generation\n",
    "    avg_fitness_per_gen = []\n",
    "\n",
    "    # Performing the Evolution\n",
    "    # Extracting all the fitnesses of\n",
    "    fits = [ind.fitness.values[0] for ind in pop]\n",
    "    # Variable keeping track of the number of generations\n",
    "    g = 0\n",
    "\n",
    "    # Begin the evolution\n",
    "    while (\n",
    "        max(fits) < 1 and g < 2000\n",
    "    ):  # if 1, it means that we have found the hidden sentence\n",
    "        # A new generation\n",
    "        g = g + 1\n",
    "        print(f\"-- Generation {g} --\")\n",
    "        # Select the next generation individuals\n",
    "        offspring = toolbox.select(pop, len(pop))\n",
    "        # Clone the selected individuals\n",
    "        offspring = list(map(toolbox.clone, offspring))\n",
    "        # Apply crossover and mutation on the offspring\n",
    "        # NOTE: we select two individuals at a time (1 with even index, 1 with odd index), mate them and then mutate them\n",
    "        for child1, child2 in zip(offspring[::2], offspring[1::2]):\n",
    "            if random.random() < CXPB:\n",
    "                toolbox.mate(child1, child2)\n",
    "                del child1.fitness.values  # fitness values of the children are invalidated\n",
    "                del child2.fitness.values\n",
    "\n",
    "        for mutant in offspring:\n",
    "            if random.random() < MUTPB:\n",
    "                toolbox.mutate(mutant)\n",
    "                del mutant.fitness.values # fitness values of the mutants are invalidated\n",
    "\n",
    "        # Evaluate the individuals with an invalid fitness\n",
    "        # Note: We are reevaluating the fitness of the individuals that have been mutated and crossed over\n",
    "        invalid_ind = [ind for ind in offspring if not ind.fitness.valid]\n",
    "        fitnesses = map(toolbox.evaluate, invalid_ind)\n",
    "        for ind, fit in zip(invalid_ind, fitnesses):\n",
    "            ind.fitness.values = fit\n",
    "\n",
    "        pop[:] = offspring\n",
    "\n",
    "        # Gather all the fitnesses in one list and print the stats\n",
    "        fits = [ind.fitness.values[0] for ind in pop]\n",
    "\n",
    "        length = len(pop)\n",
    "        mean = sum(fits) / length\n",
    "        sum2 = sum(x * x for x in fits)\n",
    "        std = abs(sum2 / length - mean**2) ** 0.5\n",
    "\n",
    "        print(f\"  Min {min(fits)}\")\n",
    "        print(f\"  Max {max(fits)}\")\n",
    "        print(f\"  Avg {mean}\")\n",
    "        print(f\"  Std {std}\")\n",
    "\n",
    "        # Append the average fitness of this generation to the list\n",
    "        avg_fitness_per_gen.append(mean)\n",
    "\n",
    "    print(\"-- End of evolution --\")\n",
    "\n",
    "    best_ind = tools.selBest(pop, 1)[0]\n",
    "    best_ind_str = \"\".join(best_ind)\n",
    "    print(\n",
    "        f\"The best individual is: {best_ind_str} \\nwith a fitness score of: {best_ind.fitness.values[0]}, after {g} generations.\"\n",
    "    )\n",
    "    print(f\"The hidden sentence is: {mastermind.get_sentence()}\")\n",
    "\n",
    "    # Plotting the average fitness per generation\n",
    "    plt.plot(avg_fitness_per_gen)\n",
    "    plt.xlabel(\"Generation\")\n",
    "    plt.ylabel(\"Average Fitness\")\n",
    "    plt.title(\"Average Fitness per Generation\")\n",
    "    plt.show()"
   ]
  },
  {
   "cell_type": "code",
   "execution_count": null,
   "metadata": {},
   "outputs": [],
   "source": [
    "if __name__ == \"__main__\":\n",
    "    main()"
   ]
  },
  {
   "cell_type": "markdown",
   "metadata": {},
   "source": []
  }
 ],
 "metadata": {
  "kernelspec": {
   "display_name": ".venv",
   "language": "python",
   "name": "python3"
  },
  "language_info": {
   "codemirror_mode": {
    "name": "ipython",
    "version": 3
   },
   "file_extension": ".py",
   "mimetype": "text/x-python",
   "name": "python",
   "nbconvert_exporter": "python",
   "pygments_lexer": "ipython3",
   "version": "3.11.9"
  }
 },
 "nbformat": 4,
 "nbformat_minor": 2
}
